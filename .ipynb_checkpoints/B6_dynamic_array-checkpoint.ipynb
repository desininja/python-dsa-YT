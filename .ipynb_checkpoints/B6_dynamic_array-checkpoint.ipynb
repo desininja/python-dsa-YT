{
 "cells": [
  {
   "cell_type": "code",
   "execution_count": 1,
   "metadata": {
    "id": "z-nXI9ibgeBI"
   },
   "outputs": [],
   "source": [
    "import ctypes"
   ]
  },
  {
   "cell_type": "code",
   "execution_count": 209,
   "metadata": {
    "id": "WkLLqSkFhhUR"
   },
   "outputs": [],
   "source": [
    "class MeraList:\n",
    "    def __init__(self):\n",
    "        self.size = 1\n",
    "        self.n = 0\n",
    "        self.A = self.__make_array(self.size)\n",
    "\n",
    "    def __len__(self):\n",
    "        return self.n\n",
    "    \n",
    "    def __getitem__(self, index):\n",
    "        if 0<=index<self.n:\n",
    "            return self.A[index]\n",
    "        else:\n",
    "            return 'IndexError: Index out of range'\n",
    "    def __str__(self):\n",
    "        #[1,2,3]\n",
    "        result = ''\n",
    "        for i in range(self.n):\n",
    "            result = result+str(self.A[i])+','\n",
    "        return '['+result[:-1]+']'\n",
    "  \n",
    "    def append(self, item):\n",
    "        if self.size == self.n:\n",
    "            #resize\n",
    "            self.__resize(self.size*2)        \n",
    "        #append\n",
    "        self.A[self.n] = item\n",
    "        self.n = self.n+1\n",
    "        \n",
    "    def __delitem__(self,pos):\n",
    "        \n",
    "        if 0<= pos <self.n:\n",
    "            for i in range(pos, self.n-1):\n",
    "                self.A[i] = self.A[i+1]\n",
    "            self.n= self.n-1\n",
    "    \n",
    "    def pop(self):\n",
    "        \n",
    "        if self.n == 0:\n",
    "            return 'Empty List'\n",
    "        \n",
    "        print(self.A[self.n-1])\n",
    "        self.n = self.n-1\n",
    "    \n",
    "    def clear(self):\n",
    "        self.n=0\n",
    "        self.size=1\n",
    "    \n",
    "    def find(self,element):\n",
    "        for i in range(self.n):\n",
    "            if element == self.A[i]:\n",
    "                return i\n",
    "        \n",
    "        return f\"Value Error: {element} not in list\"\n",
    "    \n",
    "    def insert(self,index,item):\n",
    "        if self.size ==self.n:\n",
    "            #resize\n",
    "            self.__resize(self.size*2)\n",
    "        \n",
    "        self.n= self.n+1\n",
    "        \n",
    "        for i in range(self.n,index,-1):\n",
    "            self.A[i]=self.A[i-1]\n",
    "        \n",
    "        self.A[index] = item\n",
    "    \n",
    "    def remove(self,item):\n",
    "        pos = self.find(item)\n",
    "        \n",
    "        if type(pos)==int:\n",
    "            self.__delitem__(pos)\n",
    "        else:\n",
    "            return pos\n",
    "        \n",
    "  \n",
    "    def __resize(self, new_capacity):\n",
    "        #create new array with new capacity\n",
    "        B=self.__make_array(new_capacity)\n",
    "        self.size = new_capacity\n",
    "        #copy content of A to B\n",
    "        for i in range(self.n):\n",
    "            B[i] = self.A[i]\n",
    "        #reassign      \n",
    "        self.A = B\n",
    "    \n",
    "    def sort(self,asc=True):\n",
    "        \n",
    "        if asc:\n",
    "            for i in range(self.n-1):\n",
    "                sorted_flag = True\n",
    "                for j in range(self.n-i-1):\n",
    "                    if self.A[j] > self.A[j+1]:\n",
    "                        self.A[j],self.A[j+1] = self.A[j+1], self.A[j]\n",
    "                        sorted_flag = False\n",
    "                if sorted_flag:\n",
    "                    break\n",
    "        else:\n",
    "            for i in range(self.n-1):\n",
    "                sorted_flag = True\n",
    "                for j in range(self.n-i-1):\n",
    "                    if self.A[j] < self.A[j+1]:\n",
    "                        self.A[j],self.A[j+1] = self.A[j+1], self.A[j]\n",
    "                        sorted_flag = False\n",
    "                if sorted_flag:\n",
    "                    break\n",
    "    def find_min(self):\n",
    "        min_item = self.A[0]\n",
    "        for i in range(self.n-1):\n",
    "            \n",
    "            if min_item > self.A[i]:\n",
    "                min_item = self.A[i]\n",
    "        \n",
    "        return min_item\n",
    "          \n",
    "    def find_max(self):\n",
    "        max_item = self.A[0]\n",
    "        for i in range(self.n-1):\n",
    "            if max_item < self.A[i]:\n",
    "                max_item = self.A[i]\n",
    "        \n",
    "        return max_item\n",
    "            \n",
    "    def find_sum(self):\n",
    "        \n",
    "        total = 0\n",
    "        for i in range(self.n):\n",
    "            if type(self.A[i]) == int or type(self.A[i])==float:\n",
    "                total = total+self.A[i]\n",
    "            else:\n",
    "                return 'ValueError: List contains a string value'\n",
    "        return total   \n",
    "    \n",
    "    def extend_list(self,new_list):\n",
    "        \n",
    "        for i in new_list:\n",
    "            self.append(i)\n",
    "            \n",
    "\n",
    "    def __make_array(self, capacity):\n",
    "        #creates a C type array(static, referential) with size capactiy\n",
    "        return (capacity * ctypes.py_object)()\n",
    "\n",
    "\n",
    "\n"
   ]
  },
  {
   "cell_type": "code",
   "execution_count": 210,
   "metadata": {
    "id": "Y3pBftMbh94d"
   },
   "outputs": [],
   "source": [
    "L = MeraList()"
   ]
  },
  {
   "cell_type": "code",
   "execution_count": 211,
   "metadata": {
    "colab": {
     "base_uri": "https://localhost:8080/"
    },
    "id": "ZIWd6rNAiCSa",
    "outputId": "c6dc32db-493f-4a2f-eecf-38b9008b3a50"
   },
   "outputs": [
    {
     "data": {
      "text/plain": [
       "0"
      ]
     },
     "execution_count": 211,
     "metadata": {},
     "output_type": "execute_result"
    }
   ],
   "source": [
    "len(L)"
   ]
  },
  {
   "cell_type": "code",
   "execution_count": 212,
   "metadata": {
    "id": "sEPgFIRLiEQf"
   },
   "outputs": [],
   "source": [
    "L.append(1)\n",
    "L.append(2)\n",
    "L.append(3)\n",
    "L.append(4)\n",
    "L.append(\"heelo\")"
   ]
  },
  {
   "cell_type": "code",
   "execution_count": 213,
   "metadata": {},
   "outputs": [
    {
     "data": {
      "text/plain": [
       "8"
      ]
     },
     "execution_count": 213,
     "metadata": {},
     "output_type": "execute_result"
    }
   ],
   "source": [
    "L.size"
   ]
  },
  {
   "cell_type": "code",
   "execution_count": 214,
   "metadata": {},
   "outputs": [
    {
     "name": "stdout",
     "output_type": "stream",
     "text": [
      "[1,2,3,4,heelo]\n"
     ]
    }
   ],
   "source": [
    "print(L)"
   ]
  },
  {
   "cell_type": "code",
   "execution_count": 215,
   "metadata": {},
   "outputs": [],
   "source": [
    "L.append(\"Hi\")"
   ]
  },
  {
   "cell_type": "code",
   "execution_count": 216,
   "metadata": {},
   "outputs": [
    {
     "name": "stdout",
     "output_type": "stream",
     "text": [
      "[1,2,3,4,heelo,Hi]\n"
     ]
    }
   ],
   "source": [
    "print(L)"
   ]
  },
  {
   "cell_type": "code",
   "execution_count": 217,
   "metadata": {},
   "outputs": [],
   "source": [
    "#extend_list method:\n",
    "\n",
    "new_list = ['kk','jj',7,9.0,5+1]\n",
    "\n",
    "L.extend_list(new_list)"
   ]
  },
  {
   "cell_type": "code",
   "execution_count": 218,
   "metadata": {},
   "outputs": [
    {
     "name": "stdout",
     "output_type": "stream",
     "text": [
      "[1,2,3,4,heelo,Hi,kk,jj,7,9.0,6]\n"
     ]
    }
   ],
   "source": [
    "print(L)"
   ]
  },
  {
   "cell_type": "code",
   "execution_count": 205,
   "metadata": {},
   "outputs": [
    {
     "data": {
      "text/plain": [
       "1"
      ]
     },
     "execution_count": 205,
     "metadata": {},
     "output_type": "execute_result"
    }
   ],
   "source": [
    "L[0]"
   ]
  },
  {
   "cell_type": "code",
   "execution_count": 110,
   "metadata": {},
   "outputs": [
    {
     "data": {
      "text/plain": [
       "4"
      ]
     },
     "execution_count": 110,
     "metadata": {},
     "output_type": "execute_result"
    }
   ],
   "source": [
    "L[3]"
   ]
  },
  {
   "cell_type": "code",
   "execution_count": 111,
   "metadata": {},
   "outputs": [
    {
     "data": {
      "text/plain": [
       "'IndexError: Index out of range'"
      ]
     },
     "execution_count": 111,
     "metadata": {},
     "output_type": "execute_result"
    }
   ],
   "source": [
    "L[100]"
   ]
  },
  {
   "cell_type": "code",
   "execution_count": 112,
   "metadata": {},
   "outputs": [
    {
     "data": {
      "text/plain": [
       "'IndexError: Index out of range'"
      ]
     },
     "execution_count": 112,
     "metadata": {},
     "output_type": "execute_result"
    }
   ],
   "source": [
    "L[-1]"
   ]
  },
  {
   "cell_type": "code",
   "execution_count": 113,
   "metadata": {},
   "outputs": [
    {
     "name": "stdout",
     "output_type": "stream",
     "text": [
      "Hi\n"
     ]
    }
   ],
   "source": [
    "L.pop()"
   ]
  },
  {
   "cell_type": "code",
   "execution_count": 114,
   "metadata": {},
   "outputs": [
    {
     "name": "stdout",
     "output_type": "stream",
     "text": [
      "[1,2,3,4,heelo]\n"
     ]
    }
   ],
   "source": [
    "print(L)"
   ]
  },
  {
   "cell_type": "code",
   "execution_count": 115,
   "metadata": {},
   "outputs": [
    {
     "data": {
      "text/plain": [
       "1"
      ]
     },
     "execution_count": 115,
     "metadata": {},
     "output_type": "execute_result"
    }
   ],
   "source": [
    "L.find(2)"
   ]
  },
  {
   "cell_type": "code",
   "execution_count": 116,
   "metadata": {},
   "outputs": [
    {
     "data": {
      "text/plain": [
       "'Value Error: 1000 not in list'"
      ]
     },
     "execution_count": 116,
     "metadata": {},
     "output_type": "execute_result"
    }
   ],
   "source": [
    "L.find(1000)"
   ]
  },
  {
   "cell_type": "code",
   "execution_count": 117,
   "metadata": {},
   "outputs": [
    {
     "name": "stdout",
     "output_type": "stream",
     "text": [
      "[1,2,3,4,heelo]\n"
     ]
    }
   ],
   "source": [
    "print(L)"
   ]
  },
  {
   "cell_type": "code",
   "execution_count": 118,
   "metadata": {},
   "outputs": [],
   "source": [
    "L.insert(1,999)"
   ]
  },
  {
   "cell_type": "code",
   "execution_count": 119,
   "metadata": {},
   "outputs": [
    {
     "name": "stdout",
     "output_type": "stream",
     "text": [
      "[1,999,2,3,4,heelo]\n"
     ]
    }
   ],
   "source": [
    "print(L)"
   ]
  },
  {
   "cell_type": "code",
   "execution_count": 120,
   "metadata": {},
   "outputs": [
    {
     "data": {
      "text/plain": [
       "6"
      ]
     },
     "execution_count": 120,
     "metadata": {},
     "output_type": "execute_result"
    }
   ],
   "source": [
    "L.n"
   ]
  },
  {
   "cell_type": "code",
   "execution_count": 147,
   "metadata": {},
   "outputs": [],
   "source": [
    "del L[0]"
   ]
  },
  {
   "cell_type": "code",
   "execution_count": 148,
   "metadata": {},
   "outputs": [
    {
     "name": "stdout",
     "output_type": "stream",
     "text": [
      "[]\n"
     ]
    }
   ],
   "source": [
    "print(L)"
   ]
  },
  {
   "cell_type": "code",
   "execution_count": 125,
   "metadata": {},
   "outputs": [],
   "source": [
    "L.remove('heelo')"
   ]
  },
  {
   "cell_type": "code",
   "execution_count": 127,
   "metadata": {},
   "outputs": [
    {
     "name": "stdout",
     "output_type": "stream",
     "text": [
      "[999,2,3,4]\n"
     ]
    }
   ],
   "source": [
    "print(L)"
   ]
  },
  {
   "cell_type": "code",
   "execution_count": 133,
   "metadata": {},
   "outputs": [],
   "source": [
    "#for sort method"
   ]
  },
  {
   "cell_type": "code",
   "execution_count": 187,
   "metadata": {},
   "outputs": [],
   "source": [
    "L.append(2)\n",
    "L.append(6)\n",
    "L.append(1)\n",
    "L.append(8)\n",
    "L.append(4)\n",
    "L.append(3)"
   ]
  },
  {
   "cell_type": "code",
   "execution_count": 188,
   "metadata": {},
   "outputs": [
    {
     "name": "stdout",
     "output_type": "stream",
     "text": [
      "[2,6,1,8,4,3]\n"
     ]
    }
   ],
   "source": [
    "print(L)"
   ]
  },
  {
   "cell_type": "code",
   "execution_count": 189,
   "metadata": {},
   "outputs": [
    {
     "data": {
      "text/plain": [
       "6"
      ]
     },
     "execution_count": 189,
     "metadata": {},
     "output_type": "execute_result"
    }
   ],
   "source": [
    "L.n"
   ]
  },
  {
   "cell_type": "code",
   "execution_count": 152,
   "metadata": {},
   "outputs": [],
   "source": [
    "L.sort(asc=False)"
   ]
  },
  {
   "cell_type": "code",
   "execution_count": 194,
   "metadata": {},
   "outputs": [
    {
     "name": "stdout",
     "output_type": "stream",
     "text": [
      "[2,6,1,8,4,3]\n"
     ]
    }
   ],
   "source": [
    "print(L)"
   ]
  },
  {
   "cell_type": "code",
   "execution_count": 191,
   "metadata": {},
   "outputs": [
    {
     "data": {
      "text/plain": [
       "1"
      ]
     },
     "execution_count": 191,
     "metadata": {},
     "output_type": "execute_result"
    }
   ],
   "source": [
    "#for min and max method\n",
    "\n",
    "L.find_min()"
   ]
  },
  {
   "cell_type": "code",
   "execution_count": 192,
   "metadata": {},
   "outputs": [
    {
     "data": {
      "text/plain": [
       "8"
      ]
     },
     "execution_count": 192,
     "metadata": {},
     "output_type": "execute_result"
    }
   ],
   "source": [
    "L.find_max()"
   ]
  },
  {
   "cell_type": "code",
   "execution_count": 193,
   "metadata": {},
   "outputs": [
    {
     "data": {
      "text/plain": [
       "24"
      ]
     },
     "execution_count": 193,
     "metadata": {},
     "output_type": "execute_result"
    }
   ],
   "source": [
    "#for sum method\n",
    "L.find_sum()"
   ]
  },
  {
   "cell_type": "code",
   "execution_count": 195,
   "metadata": {},
   "outputs": [],
   "source": [
    "L.append('Hi')"
   ]
  },
  {
   "cell_type": "code",
   "execution_count": 196,
   "metadata": {},
   "outputs": [
    {
     "data": {
      "text/plain": [
       "'ValueError: List contains a string value'"
      ]
     },
     "execution_count": 196,
     "metadata": {},
     "output_type": "execute_result"
    }
   ],
   "source": [
    "L.find_sum()"
   ]
  },
  {
   "cell_type": "code",
   "execution_count": null,
   "metadata": {},
   "outputs": [],
   "source": []
  },
  {
   "cell_type": "code",
   "execution_count": null,
   "metadata": {},
   "outputs": [],
   "source": []
  },
  {
   "cell_type": "code",
   "execution_count": null,
   "metadata": {},
   "outputs": [],
   "source": []
  },
  {
   "cell_type": "code",
   "execution_count": null,
   "metadata": {},
   "outputs": [],
   "source": []
  },
  {
   "cell_type": "code",
   "execution_count": null,
   "metadata": {},
   "outputs": [],
   "source": []
  },
  {
   "cell_type": "code",
   "execution_count": null,
   "metadata": {},
   "outputs": [],
   "source": []
  },
  {
   "cell_type": "code",
   "execution_count": 199,
   "metadata": {},
   "outputs": [],
   "source": [
    "L.clear()"
   ]
  },
  {
   "cell_type": "code",
   "execution_count": 200,
   "metadata": {},
   "outputs": [
    {
     "name": "stdout",
     "output_type": "stream",
     "text": [
      "[]\n"
     ]
    }
   ],
   "source": [
    "print(L)"
   ]
  }
 ],
 "metadata": {
  "colab": {
   "authorship_tag": "ABX9TyP8mcg3fOTxhQuq5+J9vlK3",
   "include_colab_link": true,
   "provenance": []
  },
  "kernelspec": {
   "display_name": "Python 3",
   "language": "python",
   "name": "python3"
  },
  "language_info": {
   "codemirror_mode": {
    "name": "ipython",
    "version": 3
   },
   "file_extension": ".py",
   "mimetype": "text/x-python",
   "name": "python",
   "nbconvert_exporter": "python",
   "pygments_lexer": "ipython3",
   "version": "3.8.5"
  }
 },
 "nbformat": 4,
 "nbformat_minor": 1
}
